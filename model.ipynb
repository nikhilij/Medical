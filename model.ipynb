{
 "cells": [
  {
   "cell_type": "code",
   "execution_count": 2,
   "metadata": {},
   "outputs": [
    {
     "name": "stdout",
     "output_type": "stream",
     "text": [
      "^C\n",
      "Note: you may need to restart the kernel to use updated packages.\n"
     ]
    },
    {
     "ename": "ModuleNotFoundError",
     "evalue": "No module named 'pygam'",
     "output_type": "error",
     "traceback": [
      "\u001b[1;31m---------------------------------------------------------------------------\u001b[0m",
      "\u001b[1;31mModuleNotFoundError\u001b[0m                       Traceback (most recent call last)",
      "Cell \u001b[1;32mIn[2], line 9\u001b[0m\n\u001b[0;32m      7\u001b[0m \u001b[38;5;28;01mfrom\u001b[39;00m \u001b[38;5;21;01msklearn\u001b[39;00m\u001b[38;5;21;01m.\u001b[39;00m\u001b[38;5;21;01mensemble\u001b[39;00m \u001b[38;5;28;01mimport\u001b[39;00m RandomForestRegressor\n\u001b[0;32m      8\u001b[0m \u001b[38;5;28;01mfrom\u001b[39;00m \u001b[38;5;21;01msklearn\u001b[39;00m\u001b[38;5;21;01m.\u001b[39;00m\u001b[38;5;21;01mmetrics\u001b[39;00m \u001b[38;5;28;01mimport\u001b[39;00m mean_absolute_error, mean_squared_error, r2_score\n\u001b[1;32m----> 9\u001b[0m \u001b[38;5;28;01mfrom\u001b[39;00m \u001b[38;5;21;01mpygam\u001b[39;00m \u001b[38;5;28;01mimport\u001b[39;00m LinearGAM, s, f\n\u001b[0;32m     11\u001b[0m \u001b[38;5;66;03m# Load dataset (assuming dataset is preprocessed and stored as CSV)\u001b[39;00m\n\u001b[0;32m     12\u001b[0m df \u001b[38;5;241m=\u001b[39m pd\u001b[38;5;241m.\u001b[39mread_csv(\u001b[38;5;124m'\u001b[39m\u001b[38;5;124minsurance_data.csv\u001b[39m\u001b[38;5;124m'\u001b[39m)\n",
      "\u001b[1;31mModuleNotFoundError\u001b[0m: No module named 'pygam'"
     ]
    }
   ],
   "source": [
    "%pip install pygam\n",
    "\n",
    "import numpy as np\n",
    "import pandas as pd\n",
    "from sklearn.model_selection import train_test_split\n",
    "from sklearn.preprocessing import StandardScaler, OneHotEncoder\n",
    "from sklearn.ensemble import RandomForestRegressor\n",
    "from sklearn.metrics import mean_absolute_error, mean_squared_error, r2_score\n",
    "from pygam import LinearGAM, s, f\n",
    "\n",
    "# Load dataset (assuming dataset is preprocessed and stored as CSV)\n",
    "df = pd.read_csv('insurance_data.csv')\n",
    "\n",
    "# Define categorical and numerical columns\n",
    "categorical_cols = ['Gender', 'Region', 'Diet Type', 'Employment Type', 'Policy Type', 'Age Group']\n",
    "binary_cols = ['Smoking Status', 'Cancer', 'Diabetes', 'Cardiovascular Disease', 'Stroke', 'COPD', 'TB',\n",
    "               'HIV/AIDS', 'Liver Disease', 'Kidney Disease', 'Alcohol Consumption', 'Has Diabetes',\n",
    "               'Has Hypertension', 'Has Heart Disease', 'Has Cancer History', 'Policy Renewal Status']\n",
    "numerical_cols = ['Age', 'BMI', 'Stress Level', 'Medical History Score', 'Annual Income', 'Credit Score',\n",
    "                  'Savings Amount', 'Health Risk Score', 'Expense Ratio', 'Medication Costs Per Year', 'Hospital Visits Per Year']\n",
    "discrete_cols = ['Number of Children', 'Exercise Frequency', 'Number of Dependents', 'Previous Insurance Claims']\n",
    "\n",
    "# One-hot encode categorical variables\n",
    "encoder = OneHotEncoder(drop='first', sparse_output=False)\n",
    "categorical_encoded = encoder.fit_transform(df[categorical_cols])\n",
    "categorical_df = pd.DataFrame(categorical_encoded, columns=encoder.get_feature_names_out())\n",
    "\n",
    "# Standardize numerical variables\n",
    "scaler = StandardScaler()\n",
    "numerical_scaled = scaler.fit_transform(df[numerical_cols])\n",
    "numerical_df = pd.DataFrame(numerical_scaled, columns=numerical_cols)\n",
    "\n",
    "# Merge all preprocessed features\n",
    "X = pd.concat([numerical_df, categorical_df, df[binary_cols], df[discrete_cols]], axis=1)\n",
    "Y = df['Insurance Cost']\n",
    "\n",
    "# Split data\n",
    "X_train, X_test, Y_train, Y_test = train_test_split(X, Y, test_size=0.2, random_state=42)\n",
    "\n",
    "# Train Random Forest Model\n",
    "rf_model = RandomForestRegressor(n_estimators=300, max_depth=10, random_state=42)\n",
    "rf_model.fit(X_train, Y_train)\n",
    "\n",
    "# Train GAM Model\n",
    "gam_model = LinearGAM(s(0) + s(1) + s(2) + s(3) + s(4) + s(5) + f(6) + f(7) + f(8)).fit(X_train, Y_train)\n",
    "\n",
    "# Predictions\n",
    "rf_preds = rf_model.predict(X_test)\n",
    "gam_preds = gam_model.predict(X_test)\n",
    "\n",
    "# Evaluate Models\n",
    "def evaluate_model(y_true, y_pred, model_name):\n",
    "    print(f\"\\n{model_name} Performance:\")\n",
    "    print(f\"MAE: {mean_absolute_error(y_true, y_pred)}\")\n",
    "    print(f\"MSE: {mean_squared_error(y_true, y_pred)}\")\n",
    "    print(f\"R²: {r2_score(y_true, y_pred)}\")\n",
    "\n",
    "evaluate_model(Y_test, rf_preds, \"Random Forest\")\n",
    "evaluate_model(Y_test, gam_preds, \"GAM\")\n"
   ]
  }
 ],
 "metadata": {
  "kernelspec": {
   "display_name": "Python 3",
   "language": "python",
   "name": "python3"
  },
  "language_info": {
   "codemirror_mode": {
    "name": "ipython",
    "version": 3
   },
   "file_extension": ".py",
   "mimetype": "text/x-python",
   "name": "python",
   "nbconvert_exporter": "python",
   "pygments_lexer": "ipython3",
   "version": "3.12.5"
  }
 },
 "nbformat": 4,
 "nbformat_minor": 2
}
